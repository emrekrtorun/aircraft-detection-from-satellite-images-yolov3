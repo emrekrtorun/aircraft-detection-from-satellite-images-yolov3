{
  "nbformat": 4,
  "nbformat_minor": 0,
  "metadata": {
    "colab": {
      "name": "yoloson.ipynb",
      "provenance": [],
      "collapsed_sections": []
    },
    "kernelspec": {
      "name": "python3",
      "display_name": "Python 3"
    },
    "accelerator": "GPU"
  },
  "cells": [
    {
      "cell_type": "code",
      "metadata": {
        "colab": {
          "base_uri": "https://localhost:8080/"
        },
        "id": "onFQ7zpt2Dnr",
        "outputId": "29611fdb-a7c7-400b-d106-c97c080bb4af"
      },
      "source": [
        "!nvidia-smi"
      ],
      "execution_count": null,
      "outputs": [
        {
          "output_type": "stream",
          "text": [
            "Fri Dec 18 11:17:58 2020       \n",
            "+-----------------------------------------------------------------------------+\n",
            "| NVIDIA-SMI 455.45.01    Driver Version: 418.67       CUDA Version: 10.1     |\n",
            "|-------------------------------+----------------------+----------------------+\n",
            "| GPU  Name        Persistence-M| Bus-Id        Disp.A | Volatile Uncorr. ECC |\n",
            "| Fan  Temp  Perf  Pwr:Usage/Cap|         Memory-Usage | GPU-Util  Compute M. |\n",
            "|                               |                      |               MIG M. |\n",
            "|===============================+======================+======================|\n",
            "|   0  Tesla P100-PCIE...  Off  | 00000000:00:04.0 Off |                    0 |\n",
            "| N/A   36C    P0    25W / 250W |      0MiB / 16280MiB |      0%      Default |\n",
            "|                               |                      |                 ERR! |\n",
            "+-------------------------------+----------------------+----------------------+\n",
            "                                                                               \n",
            "+-----------------------------------------------------------------------------+\n",
            "| Processes:                                                                  |\n",
            "|  GPU   GI   CI        PID   Type   Process name                  GPU Memory |\n",
            "|        ID   ID                                                   Usage      |\n",
            "|=============================================================================|\n",
            "|  No running processes found                                                 |\n",
            "+-----------------------------------------------------------------------------+\n"
          ],
          "name": "stdout"
        }
      ]
    },
    {
      "cell_type": "code",
      "metadata": {
        "colab": {
          "base_uri": "https://localhost:8080/"
        },
        "id": "k16pYufG2MkT",
        "outputId": "5067ffcc-6c4b-41bc-852a-289a1c76a47c"
      },
      "source": [
        "from google.colab import drive\r\n",
        "drive.mount('/content/drive')"
      ],
      "execution_count": null,
      "outputs": [
        {
          "output_type": "stream",
          "text": [
            "Mounted at /content/drive\n"
          ],
          "name": "stdout"
        }
      ]
    },
    {
      "cell_type": "code",
      "metadata": {
        "id": "bxe82_CZ2PkF"
      },
      "source": [
        "from google.colab import drive\r\n",
        "drive.mount('/content/gdrive')\r\n",
        "!ln -s /content/gdrive/My\\ Drive/ /mydrive\r\n",
        "!ls /mydrive"
      ],
      "execution_count": null,
      "outputs": []
    },
    {
      "cell_type": "code",
      "metadata": {
        "colab": {
          "base_uri": "https://localhost:8080/"
        },
        "id": "8Uld0Z4f2VpD",
        "outputId": "582102d9-0da9-4051-fc38-4af7a0e90ed5"
      },
      "source": [
        "!git clone https://github.com/AlexeyAB/darknet"
      ],
      "execution_count": null,
      "outputs": [
        {
          "output_type": "stream",
          "text": [
            "Cloning into 'darknet'...\n",
            "remote: Enumerating objects: 24, done.\u001b[K\n",
            "remote: Counting objects: 100% (24/24), done.\u001b[K\n",
            "remote: Compressing objects: 100% (19/19), done.\u001b[K\n",
            "remote: Total 14645 (delta 8), reused 11 (delta 4), pack-reused 14621\u001b[K\n",
            "Receiving objects: 100% (14645/14645), 13.25 MiB | 22.10 MiB/s, done.\n",
            "Resolving deltas: 100% (9963/9963), done.\n"
          ],
          "name": "stdout"
        }
      ]
    },
    {
      "cell_type": "code",
      "metadata": {
        "id": "OGxYLZ4B2YBl"
      },
      "source": [
        "%cd darknet\r\n",
        "!sed -i 's/OPENCV=0/OPENCV=1/' Makefile\r\n",
        "!sed -i 's/GPU=0/GPU=1/' Makefile\r\n",
        "!sed -i 's/CUDNN=0/CUDNN=1/' Makefile\r\n",
        "!make"
      ],
      "execution_count": null,
      "outputs": []
    },
    {
      "cell_type": "code",
      "metadata": {
        "id": "AwSf4UHl2bGt"
      },
      "source": [
        "!cp cfg/yolov3.cfg cfg/yolov3_training.cfg"
      ],
      "execution_count": null,
      "outputs": []
    },
    {
      "cell_type": "code",
      "metadata": {
        "id": "7U-TK2Vm2sGA"
      },
      "source": [
        "!sed -i 's/batch=1/batch=64/' cfg/yolov3_training.cfg\r\n",
        "!sed -i 's/subdivisions=1/subdivisions=16/' cfg/yolov3_training.cfg\r\n",
        "!sed -i 's/max_batches = 500200/max_batches = 4000/' cfg/yolov3_training.cfg\r\n",
        "!sed -i '610 s@classes=80@classes=1@' cfg/yolov3_training.cfg\r\n",
        "!sed -i '696 s@classes=80@classes=1@' cfg/yolov3_training.cfg\r\n",
        "!sed -i '783 s@classes=80@classes=1@' cfg/yolov3_training.cfg\r\n",
        "!sed -i '603 s@filters=255@filters=18@' cfg/yolov3_training.cfg\r\n",
        "!sed -i '689 s@filters=255@filters=18@' cfg/yolov3_training.cfg\r\n",
        "!sed -i '776 s@filters=255@filters=18@' cfg/yolov3_training.cfg"
      ],
      "execution_count": null,
      "outputs": []
    },
    {
      "cell_type": "code",
      "metadata": {
        "id": "lgYUVQ3F2uCv"
      },
      "source": [
        "!echo \"Aircraft\" > data/obj.names\r\n",
        "!echo -e 'classes= 1\\ntrain  = data/train.txt\\nvalid  = data/test.txt\\nnames = data/obj.names\\nbackup = /mydrive/yolov3/' > data/obj.data\r\n",
        "!mkdir data/obj"
      ],
      "execution_count": null,
      "outputs": []
    },
    {
      "cell_type": "code",
      "metadata": {
        "id": "0QEZSUYZ3ERK"
      },
      "source": [
        "!wget https://pjreddie.com/media/files/darknet53.conv.74"
      ],
      "execution_count": null,
      "outputs": []
    },
    {
      "cell_type": "code",
      "metadata": {
        "id": "s0vWcEXV3HB1"
      },
      "source": [
        "!unzip /mydrive/yolov3/images.zip -d data/obj"
      ],
      "execution_count": null,
      "outputs": []
    },
    {
      "cell_type": "code",
      "metadata": {
        "id": "oVpYSDpX5vds"
      },
      "source": [
        "import glob\r\n",
        "import os\r\n",
        "import re\r\n",
        "\r\n",
        "txt_file_paths = glob.glob(r\"data/obj/*.txt\")\r\n",
        "for i, file_path in enumerate(txt_file_paths):\r\n",
        "    # get image size\r\n",
        "    with open(file_path, \"r\") as f_o:\r\n",
        "        lines = f_o.readlines()\r\n",
        "\r\n",
        "        text_converted = []\r\n",
        "        for line in lines:\r\n",
        "            print(line)\r\n",
        "            numbers = re.findall(\"[0-9.]+\", line)\r\n",
        "            print(numbers)\r\n",
        "            if numbers:\r\n",
        "\r\n",
        "                # Define coordinates\r\n",
        "                text = \"{} {} {} {} {}\".format(0, numbers[1], numbers[2], numbers[3], numbers[4])\r\n",
        "                text_converted.append(text)\r\n",
        "                print(i, file_path)\r\n",
        "                print(text)\r\n",
        "        # Write file\r\n",
        "        with open(file_path, 'w') as fp:\r\n",
        "            for item in text_converted:\r\n",
        "                fp.writelines(\"%s\\n\" % item)"
      ],
      "execution_count": null,
      "outputs": []
    },
    {
      "cell_type": "code",
      "metadata": {
        "id": "4TfaYDo65zmc"
      },
      "source": [
        "import glob\r\n",
        "images_list = glob.glob(\"data/obj/images/*.png\")\r\n",
        "print(images_list)\r\n",
        "\r\n",
        "file = open(\"data/train.txt\", \"w\") \r\n",
        "file.write(\"\\n\".join(images_list)) \r\n",
        "file.close()"
      ],
      "execution_count": null,
      "outputs": []
    },
    {
      "cell_type": "code",
      "metadata": {
        "id": "uZcaFXcC56ce"
      },
      "source": [
        "!./darknet detector train data/obj.data cfg/yolov3_training.cfg '/content/gdrive/My Drive/yolov3/yolov3_training_last.weights' -dont_show"
      ],
      "execution_count": null,
      "outputs": []
    },
    {
      "cell_type": "code",
      "metadata": {
        "id": "MoR1DV0LnbnF"
      },
      "source": [
        ""
      ],
      "execution_count": null,
      "outputs": []
    }
  ]
}